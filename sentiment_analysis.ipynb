{
  "nbformat": 4,
  "nbformat_minor": 0,
  "metadata": {
    "colab": {
      "provenance": [],
      "gpuType": "T4",
      "authorship_tag": "ABX9TyOlMOqA7gGTEorTefqGZ3Yu",
      "include_colab_link": true
    },
    "kernelspec": {
      "name": "python3",
      "display_name": "Python 3"
    },
    "language_info": {
      "name": "python"
    },
    "accelerator": "GPU"
  },
  "cells": [
    {
      "cell_type": "markdown",
      "metadata": {
        "id": "view-in-github",
        "colab_type": "text"
      },
      "source": [
        "<a href=\"https://colab.research.google.com/github/2bahaa/sentiment-analysis-Movie-Reviews/blob/main/sentiment_analysis.ipynb\" target=\"_parent\"><img src=\"https://colab.research.google.com/assets/colab-badge.svg\" alt=\"Open In Colab\"/></a>"
      ]
    },
    {
      "cell_type": "code",
      "execution_count": 2,
      "metadata": {
        "colab": {
          "base_uri": "https://localhost:8080/"
        },
        "id": "PPBdbyFqpfLj",
        "outputId": "6b7b98a9-e4ef-44b0-e48c-fad5a10d2737"
      },
      "outputs": [
        {
          "output_type": "stream",
          "name": "stdout",
          "text": [
            "Colab only includes TensorFlow 2.x; %tensorflow_version has no effect.\n"
          ]
        }
      ],
      "source": [
        "%tensorflow_version 2.x\n",
        "from keras.datasets import imdb\n",
        "from keras.preprocessing import sequence\n",
        "import keras\n",
        "import tensorflow as tf\n",
        "import os\n",
        "import numpy as np"
      ]
    },
    {
      "cell_type": "code",
      "source": [
        "Vocab_size=88584\n",
        "maxlen=250\n",
        "batch_size=64\n",
        "(train_data,train_labels),(test_data,test_labels)=imdb.load_data(num_words=Vocab_size)\n"
      ],
      "metadata": {
        "colab": {
          "base_uri": "https://localhost:8080/"
        },
        "id": "TrifEz6zqd1F",
        "outputId": "bc598514-4794-4729-c284-5804bd631f50"
      },
      "execution_count": 3,
      "outputs": [
        {
          "output_type": "stream",
          "name": "stdout",
          "text": [
            "Downloading data from https://storage.googleapis.com/tensorflow/tf-keras-datasets/imdb.npz\n",
            "17464789/17464789 [==============================] - 2s 0us/step\n"
          ]
        }
      ]
    },
    {
      "cell_type": "code",
      "source": [
        "#pre-processing to ensure the review is only 250 words\n",
        "train_data=sequence.pad_sequences(train_data,maxlen)\n",
        "test_data=sequence.pad_sequences(test_data,maxlen)\n",
        "#padding to the reviews"
      ],
      "metadata": {
        "id": "YOufm2IbrmML"
      },
      "execution_count": 4,
      "outputs": []
    },
    {
      "cell_type": "code",
      "source": [
        "#build the model with word embedding layer and LSTM\n",
        "model=tf.keras.Sequential([\n",
        "    tf.keras.layers.Embedding(Vocab_size,32),\n",
        "    tf.keras.layers.LSTM(32),\n",
        "    tf.keras.layers.Dense(1,activation='sigmoid')\n",
        "]\n",
        ")"
      ],
      "metadata": {
        "id": "W7xzegnksIOj"
      },
      "execution_count": 5,
      "outputs": []
    },
    {
      "cell_type": "code",
      "source": [
        "model.summary()"
      ],
      "metadata": {
        "colab": {
          "base_uri": "https://localhost:8080/"
        },
        "id": "mHaqPED3twvv",
        "outputId": "9e2d3534-aee1-4d17-ae85-77bdce2faa94"
      },
      "execution_count": null,
      "outputs": [
        {
          "output_type": "stream",
          "name": "stdout",
          "text": [
            "Model: \"sequential\"\n",
            "_________________________________________________________________\n",
            " Layer (type)                Output Shape              Param #   \n",
            "=================================================================\n",
            " embedding (Embedding)       (None, None, 32)          2834688   \n",
            "                                                                 \n",
            " lstm (LSTM)                 (None, 32)                8320      \n",
            "                                                                 \n",
            " dense (Dense)               (None, 1)                 33        \n",
            "                                                                 \n",
            "=================================================================\n",
            "Total params: 2843041 (10.85 MB)\n",
            "Trainable params: 2843041 (10.85 MB)\n",
            "Non-trainable params: 0 (0.00 Byte)\n",
            "_________________________________________________________________\n"
          ]
        }
      ]
    },
    {
      "cell_type": "code",
      "source": [
        "model.compile(loss=\"binary_crossentropy\",optimizer=\"rmsprop\",metrics=['acc'])\n",
        "\n",
        "history=model.fit(train_data,train_labels,epochs=10,validation_split=0.2)"
      ],
      "metadata": {
        "colab": {
          "base_uri": "https://localhost:8080/"
        },
        "id": "R2XKX1mquoil",
        "outputId": "703871f0-ad01-4213-9f16-ed54c731770e"
      },
      "execution_count": 7,
      "outputs": [
        {
          "output_type": "stream",
          "name": "stdout",
          "text": [
            "Epoch 1/10\n",
            "625/625 [==============================] - 47s 70ms/step - loss: 0.4536 - acc: 0.7792 - val_loss: 0.3090 - val_acc: 0.8768\n",
            "Epoch 2/10\n",
            "625/625 [==============================] - 19s 30ms/step - loss: 0.2594 - acc: 0.9004 - val_loss: 0.3080 - val_acc: 0.8692\n",
            "Epoch 3/10\n",
            "625/625 [==============================] - 13s 20ms/step - loss: 0.2034 - acc: 0.9252 - val_loss: 0.2870 - val_acc: 0.8892\n",
            "Epoch 4/10\n",
            "625/625 [==============================] - 10s 16ms/step - loss: 0.1627 - acc: 0.9431 - val_loss: 0.3541 - val_acc: 0.8730\n",
            "Epoch 5/10\n",
            "625/625 [==============================] - 11s 17ms/step - loss: 0.1404 - acc: 0.9531 - val_loss: 0.3058 - val_acc: 0.8808\n",
            "Epoch 6/10\n",
            "625/625 [==============================] - 9s 14ms/step - loss: 0.1145 - acc: 0.9621 - val_loss: 0.3802 - val_acc: 0.8792\n",
            "Epoch 7/10\n",
            "625/625 [==============================] - 9s 15ms/step - loss: 0.0956 - acc: 0.9682 - val_loss: 0.3596 - val_acc: 0.8814\n",
            "Epoch 8/10\n",
            "625/625 [==============================] - 8s 13ms/step - loss: 0.0843 - acc: 0.9739 - val_loss: 0.3414 - val_acc: 0.8688\n",
            "Epoch 9/10\n",
            "625/625 [==============================] - 8s 13ms/step - loss: 0.0673 - acc: 0.9782 - val_loss: 0.4466 - val_acc: 0.8702\n",
            "Epoch 10/10\n",
            "625/625 [==============================] - 8s 13ms/step - loss: 0.0594 - acc: 0.9820 - val_loss: 0.4860 - val_acc: 0.8732\n"
          ]
        }
      ]
    },
    {
      "cell_type": "code",
      "source": [
        "results=model.evaluate(test_data,test_labels,verbose=1)\n",
        "print(results)"
      ],
      "metadata": {
        "colab": {
          "base_uri": "https://localhost:8080/"
        },
        "id": "zxHxxVQj11fi",
        "outputId": "24402006-7c33-4281-8f21-7ad61d7dc838"
      },
      "execution_count": 8,
      "outputs": [
        {
          "output_type": "stream",
          "name": "stdout",
          "text": [
            "782/782 [==============================] - 4s 5ms/step - loss: 0.5379 - acc: 0.8593\n",
            "[0.5378969311714172, 0.8593199849128723]\n"
          ]
        }
      ]
    },
    {
      "cell_type": "code",
      "source": [
        "word_index=imdb.get_word_index()\n",
        "#function to encode the test data given to model\n",
        "def encode_text(text):\n",
        "  tokens=keras.preprocessing.text.text_to_word_sequence(text)\n",
        "  tokens=[word_index[word] if word in word_index else 0 for word in tokens]\n",
        "  return sequence.pad_sequences([tokens],maxlen)[0]\n",
        "\n",
        "text =\"this movie was so bad , i hated it \"\n",
        "encoded=encode_text(text)\n",
        "print(encoded)"
      ],
      "metadata": {
        "colab": {
          "base_uri": "https://localhost:8080/"
        },
        "id": "BRNQGumB2N4a",
        "outputId": "c106b5c3-3930-4f58-b8cb-956b1128b435"
      },
      "execution_count": 9,
      "outputs": [
        {
          "output_type": "stream",
          "name": "stdout",
          "text": [
            "Downloading data from https://storage.googleapis.com/tensorflow/tf-keras-datasets/imdb_word_index.json\n",
            "1641221/1641221 [==============================] - 1s 1us/step\n",
            "[   0    0    0    0    0    0    0    0    0    0    0    0    0    0\n",
            "    0    0    0    0    0    0    0    0    0    0    0    0    0    0\n",
            "    0    0    0    0    0    0    0    0    0    0    0    0    0    0\n",
            "    0    0    0    0    0    0    0    0    0    0    0    0    0    0\n",
            "    0    0    0    0    0    0    0    0    0    0    0    0    0    0\n",
            "    0    0    0    0    0    0    0    0    0    0    0    0    0    0\n",
            "    0    0    0    0    0    0    0    0    0    0    0    0    0    0\n",
            "    0    0    0    0    0    0    0    0    0    0    0    0    0    0\n",
            "    0    0    0    0    0    0    0    0    0    0    0    0    0    0\n",
            "    0    0    0    0    0    0    0    0    0    0    0    0    0    0\n",
            "    0    0    0    0    0    0    0    0    0    0    0    0    0    0\n",
            "    0    0    0    0    0    0    0    0    0    0    0    0    0    0\n",
            "    0    0    0    0    0    0    0    0    0    0    0    0    0    0\n",
            "    0    0    0    0    0    0    0    0    0    0    0    0    0    0\n",
            "    0    0    0    0    0    0    0    0    0    0    0    0    0    0\n",
            "    0    0    0    0    0    0    0    0    0    0    0    0    0    0\n",
            "    0    0    0    0    0    0    0    0    0    0    0    0    0    0\n",
            "    0    0    0    0   11   17   13   35   75   10 1797    9]\n"
          ]
        }
      ]
    },
    {
      "cell_type": "code",
      "source": [
        "#function to decode the encoded data\n",
        "reverse_word_index = {value: key for (key, value) in word_index.items()}\n",
        "def decode_text(integer):\n",
        "  pad=0\n",
        "  text=\"\"\n",
        "  for num in integer:\n",
        "    if num!=pad:\n",
        "      text+=reverse_word_index[num]+\" \"\n",
        "\n",
        "  return text[:-1]\n",
        "\n",
        "positive_rev=\"this movie was so good, i loved it\"\n",
        "positive_encoded=encode_text(positive_rev)\n",
        "print(positive_encoded)\n",
        "print(decode_text(positive_encoded))\n",
        "\n",
        "\n",
        "negative_rev=\"this movie was so bad, i hated it\"\n",
        "negative_encoded=encode_text(negative_rev)\n",
        "print(decode_text(negative_encoded))"
      ],
      "metadata": {
        "colab": {
          "base_uri": "https://localhost:8080/"
        },
        "id": "DrI0KhK14Gle",
        "outputId": "940f63c4-21c8-4761-a8ca-f7f20bf4c916"
      },
      "execution_count": 10,
      "outputs": [
        {
          "output_type": "stream",
          "name": "stdout",
          "text": [
            "[  0   0   0   0   0   0   0   0   0   0   0   0   0   0   0   0   0   0\n",
            "   0   0   0   0   0   0   0   0   0   0   0   0   0   0   0   0   0   0\n",
            "   0   0   0   0   0   0   0   0   0   0   0   0   0   0   0   0   0   0\n",
            "   0   0   0   0   0   0   0   0   0   0   0   0   0   0   0   0   0   0\n",
            "   0   0   0   0   0   0   0   0   0   0   0   0   0   0   0   0   0   0\n",
            "   0   0   0   0   0   0   0   0   0   0   0   0   0   0   0   0   0   0\n",
            "   0   0   0   0   0   0   0   0   0   0   0   0   0   0   0   0   0   0\n",
            "   0   0   0   0   0   0   0   0   0   0   0   0   0   0   0   0   0   0\n",
            "   0   0   0   0   0   0   0   0   0   0   0   0   0   0   0   0   0   0\n",
            "   0   0   0   0   0   0   0   0   0   0   0   0   0   0   0   0   0   0\n",
            "   0   0   0   0   0   0   0   0   0   0   0   0   0   0   0   0   0   0\n",
            "   0   0   0   0   0   0   0   0   0   0   0   0   0   0   0   0   0   0\n",
            "   0   0   0   0   0   0   0   0   0   0   0   0   0   0   0   0   0   0\n",
            "   0   0   0   0   0   0   0   0  11  17  13  35  49  10 444   9]\n",
            "this movie was so good i loved it\n",
            "this movie was so bad i hated it\n"
          ]
        }
      ]
    },
    {
      "cell_type": "code",
      "source": [
        "#function to use model for prediction\n",
        "def predict(text):\n",
        "  encoded_text=encode_text(text)\n",
        "  pred = np.zeros((1,250))\n",
        "  pred[0] = encoded_text\n",
        "  result=model.predict(pred)\n",
        "  print(result[0])\n",
        "  return result[0]\n",
        "\n",
        "def get_string_input(prompt):\n",
        "    while True:\n",
        "        user_input = input(prompt)\n",
        "        if user_input.isdigit() or user_input.strip() == \"\":\n",
        "            print(\"Error: Please enter a valid string.\")\n",
        "        else:\n",
        "            return user_input\n",
        "\n",
        "review =get_string_input(\"please enter a review: \")\n",
        "x=predict(review)\n",
        "if x >= 0.5:\n",
        "  print(\"this is a positive review\")\n",
        "elif x < 0.5:\n",
        "  print(\"this is a negative review\")\n",
        "else:\n",
        "  print(\"error please enter a valid review\")\n"
      ],
      "metadata": {
        "colab": {
          "base_uri": "https://localhost:8080/"
        },
        "id": "8_oZ8JqW5iNL",
        "outputId": "f5596244-0b1a-45a4-9848-f903f7091ea3"
      },
      "execution_count": 22,
      "outputs": [
        {
          "output_type": "stream",
          "name": "stdout",
          "text": [
            "please enter a review: 2222\n",
            "Error: Please enter a valid string.\n",
            "please enter a review: this movie happy good amazing loved so much \n",
            "1/1 [==============================] - 0s 21ms/step\n",
            "[0.9125268]\n",
            "this is a positive review\n"
          ]
        }
      ]
    }
  ]
}