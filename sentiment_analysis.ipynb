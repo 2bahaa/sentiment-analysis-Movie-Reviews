{
  "nbformat": 4,
  "nbformat_minor": 0,
  "metadata": {
    "colab": {
      "provenance": [],
      "gpuType": "T4",
      "authorship_tag": "ABX9TyO8jt8L1is03sBlzZusw3F8",
      "include_colab_link": true
    },
    "kernelspec": {
      "name": "python3",
      "display_name": "Python 3"
    },
    "language_info": {
      "name": "python"
    },
    "accelerator": "GPU"
  },
  "cells": [
    {
      "cell_type": "markdown",
      "metadata": {
        "id": "view-in-github",
        "colab_type": "text"
      },
      "source": [
        "<a href=\"https://colab.research.google.com/github/2bahaa/sentiment-analysis-Movie-Reviews/blob/main/sentiment_analysis.ipynb\" target=\"_parent\"><img src=\"https://colab.research.google.com/assets/colab-badge.svg\" alt=\"Open In Colab\"/></a>"
      ]
    },
    {
      "cell_type": "code",
      "execution_count": 1,
      "metadata": {
        "colab": {
          "base_uri": "https://localhost:8080/"
        },
        "id": "PPBdbyFqpfLj",
        "outputId": "f46cf61f-05f5-449e-fd20-4aabfa1d7003"
      },
      "outputs": [
        {
          "output_type": "stream",
          "name": "stdout",
          "text": [
            "Colab only includes TensorFlow 2.x; %tensorflow_version has no effect.\n"
          ]
        }
      ],
      "source": [
        "%tensorflow_version 2.x\n",
        "from keras.datasets import imdb\n",
        "from keras.preprocessing import sequence\n",
        "import keras\n",
        "import tensorflow as tf\n",
        "import os\n",
        "import numpy as np"
      ]
    },
    {
      "cell_type": "code",
      "source": [
        "Vocab_size=88584\n",
        "maxlen=250\n",
        "batch_size=64\n",
        "(train_data,train_labels),(test_data,test_labels)=imdb.load_data(num_words=Vocab_size)\n"
      ],
      "metadata": {
        "colab": {
          "base_uri": "https://localhost:8080/"
        },
        "id": "TrifEz6zqd1F",
        "outputId": "2c50bccd-a770-4338-a724-6658b2a45b07"
      },
      "execution_count": 2,
      "outputs": [
        {
          "output_type": "stream",
          "name": "stdout",
          "text": [
            "Downloading data from https://storage.googleapis.com/tensorflow/tf-keras-datasets/imdb.npz\n",
            "17464789/17464789 [==============================] - 0s 0us/step\n"
          ]
        }
      ]
    },
    {
      "cell_type": "code",
      "source": [
        "#pre-processing to ensure the review is only 250 words\n",
        "train_data=sequence.pad_sequences(train_data,maxlen)\n",
        "test_data=sequence.pad_sequences(test_data,maxlen)\n",
        "#padding to the reviews"
      ],
      "metadata": {
        "id": "YOufm2IbrmML"
      },
      "execution_count": 3,
      "outputs": []
    },
    {
      "cell_type": "code",
      "source": [
        "#build the model with word embedding layer and LSTM\n",
        "model=tf.keras.Sequential([\n",
        "    tf.keras.layers.Embedding(Vocab_size,32),\n",
        "    tf.keras.layers.LSTM(32),\n",
        "    tf.keras.layers.Dense(1,activation='sigmoid')\n",
        "]\n",
        ")"
      ],
      "metadata": {
        "id": "W7xzegnksIOj"
      },
      "execution_count": 4,
      "outputs": []
    },
    {
      "cell_type": "code",
      "source": [
        "model.summary()"
      ],
      "metadata": {
        "colab": {
          "base_uri": "https://localhost:8080/"
        },
        "id": "mHaqPED3twvv",
        "outputId": "9e2d3534-aee1-4d17-ae85-77bdce2faa94"
      },
      "execution_count": 5,
      "outputs": [
        {
          "output_type": "stream",
          "name": "stdout",
          "text": [
            "Model: \"sequential\"\n",
            "_________________________________________________________________\n",
            " Layer (type)                Output Shape              Param #   \n",
            "=================================================================\n",
            " embedding (Embedding)       (None, None, 32)          2834688   \n",
            "                                                                 \n",
            " lstm (LSTM)                 (None, 32)                8320      \n",
            "                                                                 \n",
            " dense (Dense)               (None, 1)                 33        \n",
            "                                                                 \n",
            "=================================================================\n",
            "Total params: 2843041 (10.85 MB)\n",
            "Trainable params: 2843041 (10.85 MB)\n",
            "Non-trainable params: 0 (0.00 Byte)\n",
            "_________________________________________________________________\n"
          ]
        }
      ]
    },
    {
      "cell_type": "code",
      "source": [
        "model.compile(loss=\"binary_crossentropy\",optimizer=\"rmsprop\",metrics=['acc'])\n",
        "\n",
        "history=model.fit(train_data,train_labels,epochs=10,validation_split=0.2)"
      ],
      "metadata": {
        "colab": {
          "base_uri": "https://localhost:8080/"
        },
        "id": "R2XKX1mquoil",
        "outputId": "bdfb6739-a9d9-48fe-ae65-7e1424ec388a"
      },
      "execution_count": 7,
      "outputs": [
        {
          "output_type": "stream",
          "name": "stdout",
          "text": [
            "Epoch 1/10\n",
            "625/625 [==============================] - 52s 78ms/step - loss: 0.4414 - acc: 0.7907 - val_loss: 0.3470 - val_acc: 0.8454\n",
            "Epoch 2/10\n",
            "625/625 [==============================] - 21s 33ms/step - loss: 0.2558 - acc: 0.9020 - val_loss: 0.3456 - val_acc: 0.8672\n",
            "Epoch 3/10\n",
            "625/625 [==============================] - 14s 22ms/step - loss: 0.1960 - acc: 0.9284 - val_loss: 0.2874 - val_acc: 0.8806\n",
            "Epoch 4/10\n",
            "625/625 [==============================] - 12s 18ms/step - loss: 0.1553 - acc: 0.9458 - val_loss: 0.3718 - val_acc: 0.8784\n",
            "Epoch 5/10\n",
            "625/625 [==============================] - 9s 14ms/step - loss: 0.1294 - acc: 0.9552 - val_loss: 0.3404 - val_acc: 0.8778\n",
            "Epoch 6/10\n",
            "625/625 [==============================] - 9s 14ms/step - loss: 0.1083 - acc: 0.9643 - val_loss: 0.3348 - val_acc: 0.8848\n",
            "Epoch 7/10\n",
            "625/625 [==============================] - 11s 17ms/step - loss: 0.0918 - acc: 0.9692 - val_loss: 0.3552 - val_acc: 0.8728\n",
            "Epoch 8/10\n",
            "625/625 [==============================] - 10s 15ms/step - loss: 0.0755 - acc: 0.9773 - val_loss: 0.4074 - val_acc: 0.8764\n",
            "Epoch 9/10\n",
            "625/625 [==============================] - 10s 16ms/step - loss: 0.0624 - acc: 0.9814 - val_loss: 0.3800 - val_acc: 0.8756\n",
            "Epoch 10/10\n",
            "625/625 [==============================] - 8s 12ms/step - loss: 0.0537 - acc: 0.9836 - val_loss: 0.4470 - val_acc: 0.8670\n"
          ]
        }
      ]
    },
    {
      "cell_type": "code",
      "source": [
        "results=model.evaluate(test_data,test_labels,verbose=1)\n",
        "print(results)"
      ],
      "metadata": {
        "colab": {
          "base_uri": "https://localhost:8080/"
        },
        "id": "zxHxxVQj11fi",
        "outputId": "240ed24b-c678-4db1-b1a6-4ea8ad9bec8d"
      },
      "execution_count": 8,
      "outputs": [
        {
          "output_type": "stream",
          "name": "stdout",
          "text": [
            "782/782 [==============================] - 4s 6ms/step - loss: 0.4687 - acc: 0.8585\n",
            "[0.46873173117637634, 0.8584799766540527]\n"
          ]
        }
      ]
    },
    {
      "cell_type": "code",
      "source": [
        "word_index=imdb.get_word_index()\n",
        "#function to encode the test data given to model\n",
        "def encode_text(text):\n",
        "  tokens=keras.preprocessing.text.text_to_word_sequence(text)\n",
        "  tokens=[word_index[word] if word in word_index else 0 for word in tokens]\n",
        "  return sequence.pad_sequences([tokens],maxlen)[0]\n",
        "\n",
        "text =\"this movie was so bad , i hated it \"\n",
        "encoded=encode_text(text)\n",
        "print(encoded)"
      ],
      "metadata": {
        "colab": {
          "base_uri": "https://localhost:8080/"
        },
        "id": "BRNQGumB2N4a",
        "outputId": "b75aeb43-ccdf-4f8e-863d-9137a4514df2"
      },
      "execution_count": 11,
      "outputs": [
        {
          "output_type": "stream",
          "name": "stdout",
          "text": [
            "Downloading data from https://storage.googleapis.com/tensorflow/tf-keras-datasets/imdb_word_index.json\n",
            "1641221/1641221 [==============================] - 0s 0us/step\n",
            "[   0    0    0    0    0    0    0    0    0    0    0    0    0    0\n",
            "    0    0    0    0    0    0    0    0    0    0    0    0    0    0\n",
            "    0    0    0    0    0    0    0    0    0    0    0    0    0    0\n",
            "    0    0    0    0    0    0    0    0    0    0    0    0    0    0\n",
            "    0    0    0    0    0    0    0    0    0    0    0    0    0    0\n",
            "    0    0    0    0    0    0    0    0    0    0    0    0    0    0\n",
            "    0    0    0    0    0    0    0    0    0    0    0    0    0    0\n",
            "    0    0    0    0    0    0    0    0    0    0    0    0    0    0\n",
            "    0    0    0    0    0    0    0    0    0    0    0    0    0    0\n",
            "    0    0    0    0    0    0    0    0    0    0    0    0    0    0\n",
            "    0    0    0    0    0    0    0    0    0    0    0    0    0    0\n",
            "    0    0    0    0    0    0    0    0    0    0    0    0    0    0\n",
            "    0    0    0    0    0    0    0    0    0    0    0    0    0    0\n",
            "    0    0    0    0    0    0    0    0    0    0    0    0    0    0\n",
            "    0    0    0    0    0    0    0    0    0    0    0    0    0    0\n",
            "    0    0    0    0    0    0    0    0    0    0    0    0    0    0\n",
            "    0    0    0    0    0    0    0    0    0    0    0    0    0    0\n",
            "    0    0    0    0   11   17   13   35   75   10 1797    9]\n"
          ]
        }
      ]
    },
    {
      "cell_type": "code",
      "source": [
        "#function to decode the encoded data\n",
        "reverse_word_index = {value: key for (key, value) in word_index.items()}\n",
        "def decode_text(integer):\n",
        "  pad=0\n",
        "  text=\"\"\n",
        "  for num in integer:\n",
        "    if num!=pad:\n",
        "      text+=reverse_word_index[num]+\" \"\n",
        "\n",
        "  return text[:-1]\n",
        "\n",
        "positive_rev=\"this movie was so good, i loved it\"\n",
        "positive_encoded=encode_text(positive_rev)\n",
        "print(positive_encoded)\n",
        "print(decode_text(positive_encoded))\n",
        "\n",
        "\n",
        "negative_rev=\"this movie was so bad, i hated it\"\n",
        "negative_encoded=encode_text(negative_rev)\n",
        "print(decode_text(negative_encoded))"
      ],
      "metadata": {
        "colab": {
          "base_uri": "https://localhost:8080/"
        },
        "id": "DrI0KhK14Gle",
        "outputId": "527f531f-a01f-4481-db15-bb4d448dfd3a"
      },
      "execution_count": 14,
      "outputs": [
        {
          "output_type": "stream",
          "name": "stdout",
          "text": [
            "[  0   0   0   0   0   0   0   0   0   0   0   0   0   0   0   0   0   0\n",
            "   0   0   0   0   0   0   0   0   0   0   0   0   0   0   0   0   0   0\n",
            "   0   0   0   0   0   0   0   0   0   0   0   0   0   0   0   0   0   0\n",
            "   0   0   0   0   0   0   0   0   0   0   0   0   0   0   0   0   0   0\n",
            "   0   0   0   0   0   0   0   0   0   0   0   0   0   0   0   0   0   0\n",
            "   0   0   0   0   0   0   0   0   0   0   0   0   0   0   0   0   0   0\n",
            "   0   0   0   0   0   0   0   0   0   0   0   0   0   0   0   0   0   0\n",
            "   0   0   0   0   0   0   0   0   0   0   0   0   0   0   0   0   0   0\n",
            "   0   0   0   0   0   0   0   0   0   0   0   0   0   0   0   0   0   0\n",
            "   0   0   0   0   0   0   0   0   0   0   0   0   0   0   0   0   0   0\n",
            "   0   0   0   0   0   0   0   0   0   0   0   0   0   0   0   0   0   0\n",
            "   0   0   0   0   0   0   0   0   0   0   0   0   0   0   0   0   0   0\n",
            "   0   0   0   0   0   0   0   0   0   0   0   0   0   0   0   0   0   0\n",
            "   0   0   0   0   0   0   0   0  11  17  13  35  49  10 444   9]\n",
            "this movie was so good i loved it\n",
            "this movie was so bad i hated it\n"
          ]
        }
      ]
    },
    {
      "cell_type": "code",
      "source": [
        "#function to use model for prediction\n",
        "def predict(text):\n",
        "  encoded_text=encode_text(text)\n",
        "  pred = np.zeros((1,250))\n",
        "  pred[0] = encoded_text\n",
        "  result=model.predict(pred)\n",
        "  print(result[0])\n",
        "  return result[0]\n",
        "\n",
        "\n",
        "positive_review = \"That movie was! really loved it and would great watch it again because it was amazingly great\"\n",
        "x=predict(positive_review)\n",
        "if x>=0.7:\n",
        "  print(\"this is a positive review \")\n",
        "negative_review = \"that movie really sucked. I hated it and wouldn't watch it again. Was one of the worst things I've ever watched\"\n",
        "y=predict(negative_review)\n",
        "if y<0.7:\n",
        "  print(\"this is a negative review \")\n"
      ],
      "metadata": {
        "colab": {
          "base_uri": "https://localhost:8080/"
        },
        "id": "8_oZ8JqW5iNL",
        "outputId": "36a7a9c7-7f11-4d19-8352-1852afe0a190"
      },
      "execution_count": 29,
      "outputs": [
        {
          "output_type": "stream",
          "name": "stdout",
          "text": [
            "1/1 [==============================] - 0s 21ms/step\n",
            "[0.98031265]\n",
            "this is a positive review \n",
            "1/1 [==============================] - 0s 20ms/step\n",
            "[0.09430346]\n",
            "this is a negative review \n"
          ]
        }
      ]
    }
  ]
}